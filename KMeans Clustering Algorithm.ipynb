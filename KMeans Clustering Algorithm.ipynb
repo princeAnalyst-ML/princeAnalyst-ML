{
 "cells": [
  {
   "cell_type": "code",
   "execution_count": 5,
   "id": "25900fba",
   "metadata": {},
   "outputs": [],
   "source": [
    "import pandas as pd\n",
    "import numpy as np\n",
    "import seaborn as sns\n",
    "%matplotlib inline\n",
    "import matplotlib.pyplot as plt"
   ]
  },
  {
   "cell_type": "code",
   "execution_count": 11,
   "id": "3914fbcb",
   "metadata": {},
   "outputs": [],
   "source": [
    "from sklearn.datasets.sample_generators import make_blobs\n",
    "X,y_true=make_blobs(n_samples=1,center=2,clusters_std=3,random_state=None)\n",
    "plt.scatter(X[:,0],X[:,1],s=500)"
   ]
  },
  {
   "cell_type": "code",
   "execution_count": 15,
   "id": "df60c0ab",
   "metadata": {},
   "outputs": [],
   "source": [
    "#Create 4 clusters.\n",
    "from sklearn.cluster import KMeans\n",
    "kmeans=Kmeans(n_clusters=4)\n",
    "kmeans.fit(X)"
   ]
  },
  {
   "cell_type": "code",
   "execution_count": 17,
   "id": "0eb2ed0b",
   "metadata": {},
   "outputs": [],
   "source": [
    "kmeans.fit(X)"
   ]
  },
  {
   "cell_type": "code",
   "execution_count": 19,
   "id": "7b9274ec",
   "metadata": {},
   "outputs": [],
   "source": [
    "y_pred=kmeans.predict(X)"
   ]
  },
  {
   "cell_type": "code",
   "execution_count": 22,
   "id": "859bec0d",
   "metadata": {},
   "outputs": [],
   "source": [
    "from sklearn.metrics import pairwise_distances_argmin\n",
    "def find_clusters(X,n_clusters,rseed=2):\n",
    "    cls=np.random.RandomState(rseed)\n",
    "    i=cls.permutation(X.shape[0])[n_clusters]\n",
    "    centers=X[i]\n",
    "    while True:\n",
    "        labels=pairwise_distances_argmin(X,centers)\n",
    "        new_centers=np.array([X[labels==i].mean(0) for i in range (n_clusters)])\n",
    "        \n",
    "        if np.all(centers==new_centers):\n",
    "            break;\n",
    "            \n",
    "        centers=new_centers\n",
    "    return centers, labels\n",
    "\n",
    "centers,labels=find_clusters(X,4)\n",
    "plt.scatter(X[:,0],X[:,1],c_labels,s=50,cmap='viridis')\n",
    "\n",
    "plt.scatter(centers[:,0],centers[:,1],c'black',s=200,alpha=0.5)"
   ]
  },
  {
   "cell_type": "code",
   "execution_count": null,
   "id": "4eabc718",
   "metadata": {},
   "outputs": [],
   "source": []
  },
  {
   "cell_type": "markdown",
   "id": "54984017",
   "metadata": {},
   "source": [
    "Image Processing"
   ]
  },
  {
   "cell_type": "code",
   "execution_count": 34,
   "id": "424386d1",
   "metadata": {},
   "outputs": [
    {
     "data": {
      "image/png": "[encoded data removed]",
      "text/plain": [
       "<Figure size 432x288 with 1 Axes>"
      ]
     },
     "metadata": {
      "needs_background": "light"
     },
     "output_type": "display_data"
    }
   ],
   "source": [
    "from sklearn.datasets import load_sample_image\n",
    "flwr=load_sample_image(\"Darlias flower\")\n",
    "X=plt.axes(xticks=[1,2],yticks=[2])\n",
    "X.imshow(flwr);"
   ]
  },
  {
   "cell_type": "code",
   "execution_count": null,
   "id": "305395e8",
   "metadata": {},
   "outputs": [],
   "source": [
    "flwr.shape"
   ]
  },
  {
   "cell_type": "code",
   "execution_count": 38,
   "id": "48e39007",
   "metadata": {},
   "outputs": [],
   "source": [
    "data=flwr/255\n",
    "data=data.reshape(427*640,3)\n",
    "data.shape"
   ]
  },
  {
   "cell_type": "code",
   "execution_count": 1,
   "id": "4122ce35",
   "metadata": {},
   "outputs": [],
   "source": [
    "def plot_pixels(data, title, colors=None, N=10000):\n",
    "    if colors is None:\n",
    "        colors=data\n",
    "        \n",
    "        # Random data subset\n",
    "        flg=np.random.RandomState(0)\n",
    "        i=flg.permutation(data.shape[0])[:N]\n",
    "        colors=colors[i]\n",
    "        R,G,B=data[i].T\n",
    "        \n",
    "        fig, X=plt.subplots(1,2,figsize=(16,6))\n",
    "        X[0].scatter(R,G,color=colors,markers='.')\n",
    "        X[0].set(xlabel='Red',ylabel='Green',xlim=(0,1),ylim=(0,1))\n",
    "        \n",
    "        X[1].scatter(R,B,color=colors,markers='.')\n",
    "        X[1].set(xlabel='Red',ylabel='Blue',xlim=(0,1),ylim=(0,1))\n",
    "        \n",
    "        fig.subtitle(title,size=20);\n"
   ]
  },
  {
   "cell_type": "code",
   "execution_count": 3,
   "id": "c91dc9ca",
   "metadata": {},
   "outputs": [],
   "source": [
    "plot_pixels(data,title='Color input 16M Possible colors')"
   ]
  },
  {
   "cell_type": "code",
   "execution_count": 8,
   "id": "fee5a666",
   "metadata": {},
   "outputs": [],
   "source": [
    "import warnings; warnings.simplefilter('ignore')\n",
    "\n",
    "from sklearn.cluster import MiniBatchKMeans\n",
    "kmeans=MiniBatchKMeans()\n",
    "kmeans.fit(data)\n",
    "new_colors=kmeans.cluster_centers_[kmeans_predict(data)]\n",
    "\n",
    "plot_pixels(data, colors=new_colors title='Color Reduced to 16 colors'"
   ]
  },
  {
   "cell_type": "code",
   "execution_count": null,
   "id": "cd89cde5",
   "metadata": {},
   "outputs": [],
   "source": [
    "flg_recolored=new_colors.reshape(flg.shape)\n",
    "\n",
    "fig, X=plt.subplots(1,2,figsize=(16,6),subplot_kw=dict(xticks=[],yticks=[]))\n",
    "fig.subplots_adjust(wspace=0.05)\n",
    "X[0].imshow(flg)\n",
    "X[0].set_title('Original Image',size=16)\n",
    "X[0].imshow(flg_recolored)\n",
    "X[0].set_title('16_color Image', size=16)"
   ]
  },
  {
   "cell_type": "code",
   "execution_count": null,
   "id": "1ca4caa8",
   "metadata": {},
   "outputs": [],
   "source": []
  },
  {
   "cell_type": "code",
   "execution_count": null,
   "id": "dc53d1de",
   "metadata": {},
   "outputs": [],
   "source": []
  }
 ],
 "metadata": {
  "kernelspec": {
   "display_name": "Python 3",
   "language": "python",
   "name": "python3"
  },
  "language_info": {
   "codemirror_mode": {
    "name": "ipython",
    "version": 3
   },
   "file_extension": ".py",
   "mimetype": "text/x-python",
   "name": "python",
   "nbconvert_exporter": "python",
   "pygments_lexer": "ipython3",
   "version": "3.8.8"
  }
 },
 "nbformat": 4,
 "nbformat_minor": 5
}
