{
 "cells": [
  {
   "cell_type": "code",
   "execution_count": 189,
   "id": "f61dbb5f",
   "metadata": {},
   "outputs": [],
   "source": [
    "import pandas as pd\n",
    "import numpy as np\n",
    "import seaborn as sns\n",
    "import matplotlib.pyplot as plt \n",
    "%matplotlib inline"
   ]
  },
  {
   "cell_type": "code",
   "execution_count": 190,
   "id": "cc9f03f0",
   "metadata": {},
   "outputs": [
    {
     "data": {
      "text/html": [
       "<div>\n",
       "<style scoped>\n",
       "    .dataframe tbody tr th:only-of-type {\n",
       "        vertical-align: middle;\n",
       "    }\n",
       "\n",
       "    .dataframe tbody tr th {\n",
       "        vertical-align: top;\n",
       "    }\n",
       "\n",
       "    .dataframe thead th {\n",
       "        text-align: right;\n",
       "    }\n",
       "</style>\n",
       "<table border=\"1\" class=\"dataframe\">\n",
       "  <thead>\n",
       "    <tr style=\"text-align: right;\">\n",
       "      <th></th>\n",
       "      <th>R&amp;D Spend</th>\n",
       "      <th>Administration</th>\n",
       "      <th>Marketing Spend</th>\n",
       "      <th>State</th>\n",
       "      <th>Profit</th>\n",
       "    </tr>\n",
       "  </thead>\n",
       "  <tbody>\n",
       "    <tr>\n",
       "      <th>0</th>\n",
       "      <td>165349.20</td>\n",
       "      <td>136897.80</td>\n",
       "      <td>471784.10</td>\n",
       "      <td>New York</td>\n",
       "      <td>192261.83</td>\n",
       "    </tr>\n",
       "    <tr>\n",
       "      <th>1</th>\n",
       "      <td>162597.70</td>\n",
       "      <td>151377.59</td>\n",
       "      <td>443898.53</td>\n",
       "      <td>California</td>\n",
       "      <td>191792.06</td>\n",
       "    </tr>\n",
       "    <tr>\n",
       "      <th>2</th>\n",
       "      <td>153441.51</td>\n",
       "      <td>101145.55</td>\n",
       "      <td>407934.54</td>\n",
       "      <td>Florida</td>\n",
       "      <td>191050.39</td>\n",
       "    </tr>\n",
       "    <tr>\n",
       "      <th>3</th>\n",
       "      <td>144372.41</td>\n",
       "      <td>118671.85</td>\n",
       "      <td>383199.62</td>\n",
       "      <td>New York</td>\n",
       "      <td>182901.99</td>\n",
       "    </tr>\n",
       "    <tr>\n",
       "      <th>4</th>\n",
       "      <td>142107.34</td>\n",
       "      <td>91391.77</td>\n",
       "      <td>366168.42</td>\n",
       "      <td>Florida</td>\n",
       "      <td>166187.94</td>\n",
       "    </tr>\n",
       "  </tbody>\n",
       "</table>\n",
       "</div>"
      ],
      "text/plain": [
       "   R&D Spend  Administration  Marketing Spend       State     Profit\n",
       "0  165349.20       136897.80        471784.10    New York  192261.83\n",
       "1  162597.70       151377.59        443898.53  California  191792.06\n",
       "2  153441.51       101145.55        407934.54     Florida  191050.39\n",
       "3  144372.41       118671.85        383199.62    New York  182901.99\n",
       "4  142107.34        91391.77        366168.42     Florida  166187.94"
      ]
     },
     "execution_count": 190,
     "metadata": {},
     "output_type": "execute_result"
    }
   ],
   "source": [
    "Companies=pd.read_csv('1000_Companies.csv')\n",
    "Companies.head()"
   ]
  },
  {
   "cell_type": "code",
   "execution_count": 211,
   "id": "bd21c002",
   "metadata": {},
   "outputs": [
    {
     "data": {
      "text/plain": [
       "(1000, 5)"
      ]
     },
     "execution_count": 211,
     "metadata": {},
     "output_type": "execute_result"
    }
   ],
   "source": [
    "Companies.shape"
   ]
  },
  {
   "cell_type": "code",
   "execution_count": 191,
   "id": "53cf269f",
   "metadata": {},
   "outputs": [
    {
     "data": {
      "text/plain": [
       "(1000, 4)"
      ]
     },
     "execution_count": 191,
     "metadata": {},
     "output_type": "execute_result"
    }
   ],
   "source": [
    "X=Companies.iloc[:,:4]\n",
    "y=Companies.iloc[:,4:]\n",
    "X.shape"
   ]
  },
  {
   "cell_type": "code",
   "execution_count": 192,
   "id": "e052dcdd",
   "metadata": {},
   "outputs": [
    {
     "data": {
      "text/plain": [
       "<AxesSubplot:>"
      ]
     },
     "execution_count": 192,
     "metadata": {},
     "output_type": "execute_result"
    },
    {
     "data": {
      "image/png": "[encoded data removed]",
      "text/plain": [
       "<Figure size 432x288 with 2 Axes>"
      ]
     },
     "metadata": {
      "needs_background": "light"
     },
     "output_type": "display_data"
    }
   ],
   "source": [
    "sns.heatmap(Companies.corr())"
   ]
  },
  {
   "cell_type": "code",
   "execution_count": 193,
   "id": "f74d15ce",
   "metadata": {},
   "outputs": [],
   "source": [
    "from sklearn.preprocessing import LabelEncoder, OneHotEncoder\n",
    "labelencoder=LabelEncoder()\n",
    "X.iloc[:,3]=labelencoder.fit_transform(X.iloc[:, 3])\n",
    "\n",
    "#onehotencoder=OneHotEncoder(categories=[3])\n",
    "#X=onehotencoder.fit_transform(X.values.reshape(1,-1)).toarray()"
   ]
  },
  {
   "cell_type": "code",
   "execution_count": 194,
   "id": "90ed6965",
   "metadata": {},
   "outputs": [
    {
     "data": {
      "text/plain": [
       "array([[2, 0, 1, 2, 1, 2, 0, 1, 2, 0, 1, 0, 1, 0, 1, 2, 0, 2, 1, 2, 0, 2,\n",
       "        1, 1, 2, 0, 1, 2, 1, 2, 1, 2, 0, 1, 0, 2, 1, 0, 2, 0, 0, 1, 0, 2,\n",
       "        0, 2, 1, 0, 2, 0, 2, 0, 1, 2, 1, 2, 0, 1, 2, 0, 1, 0, 1, 0, 1, 2,\n",
       "        0, 2, 1, 2, 0, 2, 1, 1, 2, 0, 1, 2, 1, 2, 1, 2, 0, 1, 0, 2, 1, 0,\n",
       "        2, 0, 0, 1, 0, 2, 0, 2, 1, 0, 2, 0, 2, 0, 1, 2, 1, 2, 0, 1, 2, 0,\n",
       "        1, 0, 1, 0, 1, 2, 0, 2, 1, 2, 0, 2, 1, 1, 2, 0, 1, 2, 1, 2, 1, 2,\n",
       "        0, 1, 0, 2, 1, 0, 2, 0, 0, 1, 0, 2, 0, 2, 1, 0, 2, 0, 2, 0, 1, 2,\n",
       "        1, 2, 0, 1, 2, 0, 1, 0, 1, 0, 1, 2, 0, 2, 1, 2, 0, 2, 1, 1, 2, 0,\n",
       "        1, 2, 1, 2, 1, 2, 0, 1, 0, 2, 1, 0, 2, 0, 0, 1, 0, 2, 0, 2, 1, 0,\n",
       "        2, 0, 0, 1, 2, 1, 2, 0, 1, 2, 0, 1, 0, 1, 0, 1, 2, 0, 2, 1, 2, 0,\n",
       "        2, 1, 1, 2, 0, 1, 2, 1, 2, 1, 2, 0, 1, 0, 2, 1, 0, 2, 0, 0, 1, 0,\n",
       "        2, 0, 2, 1, 0, 2, 0, 2, 0, 1, 2, 1, 2, 0, 1, 2, 0, 1, 0, 1, 0, 1,\n",
       "        2, 0, 2, 1, 2, 0, 2, 1, 1, 2, 0, 1, 2, 1, 2, 1, 2, 0, 1, 0, 2, 1,\n",
       "        0, 2, 0, 0, 1, 0, 2, 0, 2, 1, 0, 2, 0, 0, 1, 2, 1, 2, 0, 1, 2, 0,\n",
       "        1, 0, 1, 0, 1, 2, 0, 2, 1, 2, 0, 2, 1, 1, 2, 0, 1, 2, 1, 2, 1, 2,\n",
       "        0, 1, 0, 2, 1, 0, 2, 0, 0, 1, 0, 2, 0, 2, 1, 0, 2, 0, 2, 0, 1, 2,\n",
       "        1, 2, 0, 1, 2, 0, 1, 0, 1, 0, 1, 2, 0, 2, 1, 2, 0, 2, 1, 1, 2, 0,\n",
       "        1, 2, 1, 2, 1, 2, 0, 1, 0, 2, 1, 0, 2, 0, 0, 1, 0, 2, 0, 2, 1, 0,\n",
       "        2, 0, 0, 1, 2, 1, 2, 0, 1, 2, 0, 1, 0, 1, 0, 1, 2, 0, 2, 1, 2, 0,\n",
       "        2, 1, 1, 2, 0, 1, 2, 1, 2, 1, 2, 0, 1, 0, 2, 1, 0, 2, 0, 0, 1, 0,\n",
       "        2, 0, 2, 1, 0, 2, 0, 2, 0, 1, 2, 1, 2, 0, 1, 2, 0, 1, 0, 1, 0, 1,\n",
       "        2, 0, 2, 1, 2, 0, 2, 1, 1, 2, 0, 1, 2, 1, 2, 1, 2, 0, 1, 0, 2, 1,\n",
       "        0, 2, 0, 0, 1, 0, 2, 0, 2, 1, 0, 2, 0, 0, 1, 2, 1, 2, 0, 1, 2, 0,\n",
       "        1, 0, 1, 0, 1, 2, 0, 2, 1, 2, 0, 2, 1, 1, 2, 0, 1, 2, 1, 2, 1, 2,\n",
       "        0, 1, 0, 2, 1, 0, 2, 0, 0, 1, 0, 2, 0, 2, 1, 0, 2, 0, 2, 0, 1, 2,\n",
       "        1, 2, 0, 1, 2, 0, 1, 0, 1, 0, 1, 2, 0, 2, 1, 2, 0, 2, 1, 1, 2, 0,\n",
       "        1, 2, 1, 2, 1, 2, 0, 1, 0, 2, 1, 0, 2, 0, 0, 1, 0, 2, 0, 2, 1, 0,\n",
       "        2, 0, 0, 1, 2, 1, 2, 0, 1, 2, 0, 1, 0, 1, 0, 1, 2, 0, 2, 1, 2, 0,\n",
       "        2, 1, 1, 2, 0, 1, 2, 1, 2, 1, 2, 0, 1, 0, 2, 1, 0, 2, 0, 0, 1, 0,\n",
       "        2, 0, 2, 1, 0, 2, 0, 2, 0, 1, 2, 1, 2, 0, 1, 2, 0, 1, 0, 1, 0, 1,\n",
       "        2, 0, 2, 1, 2, 0, 2, 1, 1, 2, 0, 1, 2, 1, 2, 1, 2, 0, 1, 0, 2, 1,\n",
       "        0, 2, 0, 0, 1, 0, 2, 0, 2, 1, 0, 2, 0, 0, 1, 2, 1, 2, 0, 1, 2, 0,\n",
       "        1, 0, 1, 0, 1, 2, 0, 2, 1, 2, 0, 2, 1, 1, 2, 0, 1, 2, 1, 2, 1, 2,\n",
       "        0, 1, 0, 2, 1, 0, 2, 0, 0, 1, 0, 2, 0, 2, 1, 0, 2, 0, 2, 0, 1, 2,\n",
       "        1, 2, 0, 1, 2, 0, 1, 0, 1, 0, 1, 2, 0, 2, 1, 2, 0, 2, 1, 1, 2, 0,\n",
       "        1, 2, 1, 2, 1, 2, 0, 1, 0, 2, 1, 0, 2, 0, 0, 1, 0, 2, 0, 2, 1, 0,\n",
       "        2, 0, 0, 1, 2, 1, 2, 0, 1, 2, 0, 1, 0, 1, 0, 1, 2, 0, 2, 1, 2, 0,\n",
       "        2, 1, 1, 2, 0, 1, 2, 1, 2, 1, 2, 0, 1, 0, 2, 1, 0, 2, 0, 0, 1, 0,\n",
       "        2, 0, 2, 1, 0, 2, 0, 2, 0, 1, 2, 1, 2, 0, 1, 2, 0, 1, 0, 1, 0, 1,\n",
       "        2, 0, 2, 1, 2, 0, 2, 1, 1, 2, 0, 1, 2, 1, 2, 1, 2, 0, 1, 0, 2, 1,\n",
       "        0, 2, 0, 0, 1, 0, 2, 0, 2, 1, 0, 2, 0, 0, 1, 2, 1, 2, 0, 1, 2, 0,\n",
       "        1, 0, 1, 0, 1, 2, 0, 2, 1, 2, 0, 2, 1, 1, 2, 0, 1, 2, 1, 2, 1, 2,\n",
       "        0, 1, 0, 2, 1, 0, 2, 0, 0, 1, 0, 2, 0, 2, 1, 0, 2, 0, 2, 0, 1, 2,\n",
       "        1, 2, 0, 1, 2, 0, 1, 0, 1, 0, 1, 2, 0, 2, 1, 2, 0, 2, 1, 1, 2, 0,\n",
       "        1, 2, 1, 2, 1, 2, 0, 1, 0, 2, 1, 0, 2, 0, 0, 1, 0, 2, 0, 2, 1, 1,\n",
       "        0, 2, 1, 0, 2, 0, 0, 0, 0, 2]])"
      ]
     },
     "execution_count": 194,
     "metadata": {},
     "output_type": "execute_result"
    }
   ],
   "source": [
    "X.iloc[:,3:].values.reshape(1,-1)"
   ]
  },
  {
   "cell_type": "code",
   "execution_count": 238,
   "id": "4feaa149",
   "metadata": {},
   "outputs": [],
   "source": [
    "from sklearn.model_selection import train_test_split\n",
    "X_train,X_test,y_train,y_test=train_test_split(X,y,test_size=0.30,random_state=0)"
   ]
  },
  {
   "cell_type": "code",
   "execution_count": 239,
   "id": "5d397efc",
   "metadata": {},
   "outputs": [
    {
     "data": {
      "text/plain": [
       "LinearRegression()"
      ]
     },
     "execution_count": 239,
     "metadata": {},
     "output_type": "execute_result"
    }
   ],
   "source": [
    "from sklearn.linear_model import LinearRegression\n",
    "Linear_model=LinearRegression()\n",
    "Linear_model"
   ]
  },
  {
   "cell_type": "code",
   "execution_count": 240,
   "id": "5e044488",
   "metadata": {},
   "outputs": [],
   "source": [
    "#X_train.shape\n",
    "#y1_train=y_train.values.reshape(1,-1)\n",
    "#y1.shape\n",
    "#X1_train=X_train.values.reshape(1,-1)\n",
    "#X1.shape\n",
    "#y1_train.shape\n",
    "#X1_train.shape"
   ]
  },
  {
   "cell_type": "code",
   "execution_count": 241,
   "id": "0ba6706a",
   "metadata": {},
   "outputs": [
    {
     "data": {
      "text/plain": [
       "LinearRegression()"
      ]
     },
     "execution_count": 241,
     "metadata": {},
     "output_type": "execute_result"
    }
   ],
   "source": [
    "Linear=Linear_model.fit(X_train,y_train)\n",
    "Linear"
   ]
  },
  {
   "cell_type": "code",
   "execution_count": 242,
   "id": "7539f834",
   "metadata": {},
   "outputs": [
    {
     "data": {
      "text/plain": [
       "array([[ 89229.84240672],\n",
       "       [ 87863.57359396],\n",
       "       [ 94344.10707643],\n",
       "       [175895.22780744],\n",
       "       [ 82980.10370555],\n",
       "       [110194.56108429],\n",
       "       [131145.7010102 ],\n",
       "       [ 90915.96765644],\n",
       "       [164327.69446375],\n",
       "       [ 53192.42691382],\n",
       "       [ 66343.76579396],\n",
       "       [150730.60351131],\n",
       "       [126428.6376229 ],\n",
       "       [ 58716.22001532],\n",
       "       [177128.4726056 ],\n",
       "       [ 74868.47412819],\n",
       "       [118347.71223061],\n",
       "       [164163.10652744],\n",
       "       [175361.94494987],\n",
       "       [181834.67901715],\n",
       "       [123931.93385785],\n",
       "       [ 85100.94211769],\n",
       "       [181217.57120963],\n",
       "       [ 83573.02539329],\n",
       "       [104475.47586626],\n",
       "       [100695.66614769],\n",
       "       [ 55869.41048033],\n",
       "       [ 56396.76116702],\n",
       "       [ 68293.85868702],\n",
       "       [211295.84575218],\n",
       "       [120883.34880413],\n",
       "       [111207.9392621 ],\n",
       "       [101092.40806137],\n",
       "       [138097.99134639],\n",
       "       [ 63357.57857647],\n",
       "       [108335.2495546 ],\n",
       "       [185788.17407412],\n",
       "       [171648.53078766],\n",
       "       [174856.55395055],\n",
       "       [117769.90686372],\n",
       "       [ 96326.37421582],\n",
       "       [165042.71190733],\n",
       "       [107199.41503089],\n",
       "       [ 50158.08929082],\n",
       "       [116609.99719297],\n",
       "       [ 58009.44033117],\n",
       "       [158596.32198653],\n",
       "       [ 78561.69056487],\n",
       "       [159910.14115752],\n",
       "       [131263.20822855],\n",
       "       [185113.45777499],\n",
       "       [174821.30101551],\n",
       "       [ 93192.79566122],\n",
       "       [ 77899.37238042],\n",
       "       [180508.82221402],\n",
       "       [ 84493.65299022],\n",
       "       [143049.74835815],\n",
       "       [170361.11676696],\n",
       "       [ 83935.37411825],\n",
       "       [104919.50834711],\n",
       "       [141806.43514537],\n",
       "       [ 52033.9872065 ],\n",
       "       [141386.22819422],\n",
       "       [138856.11118755],\n",
       "       [ 97750.75077428],\n",
       "       [113677.1194517 ],\n",
       "       [126409.22208131],\n",
       "       [151841.25329954],\n",
       "       [ 58383.82668438],\n",
       "       [174497.14534811],\n",
       "       [124132.89343814],\n",
       "       [168663.45314889],\n",
       "       [ 91324.9968293 ],\n",
       "       [155884.17070976],\n",
       "       [ 83735.53314907],\n",
       "       [ 77435.06461165],\n",
       "       [120517.92138076],\n",
       "       [ 92968.74076374],\n",
       "       [138558.24960958],\n",
       "       [143151.45776522],\n",
       "       [171353.60934191],\n",
       "       [139622.71831153],\n",
       "       [105983.97695123],\n",
       "       [155212.28347229],\n",
       "       [139711.64131286],\n",
       "       [109794.74048192],\n",
       "       [ 69072.00418905],\n",
       "       [ 87726.36152698],\n",
       "       [139673.44825531],\n",
       "       [148177.52062343],\n",
       "       [157633.92337955],\n",
       "       [ 57909.70013967],\n",
       "       [ 93296.33571961],\n",
       "       [112734.74650559],\n",
       "       [ 56070.88580744],\n",
       "       [107031.24905396],\n",
       "       [147510.54272599],\n",
       "       [151849.85164321],\n",
       "       [167545.17571663],\n",
       "       [118247.36182395],\n",
       "       [120867.87189321],\n",
       "       [139171.05829418],\n",
       "       [157244.42071131],\n",
       "       [122069.05341776],\n",
       "       [ 86667.0517921 ],\n",
       "       [104865.58865378],\n",
       "       [ 94927.43190263],\n",
       "       [178147.7309306 ],\n",
       "       [181566.05166083],\n",
       "       [109452.52837116],\n",
       "       [164844.09136266],\n",
       "       [167401.2236486 ],\n",
       "       [157719.90625837],\n",
       "       [174533.86834441],\n",
       "       [169796.70813044],\n",
       "       [ 51666.47951059],\n",
       "       [176551.52718068],\n",
       "       [104220.96632262],\n",
       "       [ 82135.39076847],\n",
       "       [138569.78798764],\n",
       "       [144426.33500723],\n",
       "       [161865.39302734],\n",
       "       [169864.38503669],\n",
       "       [120554.89401381],\n",
       "       [159061.48958975],\n",
       "       [109693.77985814],\n",
       "       [169415.30444425],\n",
       "       [ 60141.81701092],\n",
       "       [158614.62804723],\n",
       "       [157745.34061118],\n",
       "       [174262.16229938],\n",
       "       [156008.84599805],\n",
       "       [103181.4327194 ],\n",
       "       [ 85208.781299  ],\n",
       "       [141146.33581517],\n",
       "       [165650.97183226],\n",
       "       [121287.46863695],\n",
       "       [173089.32322528],\n",
       "       [100569.88148604],\n",
       "       [ 82124.82320729],\n",
       "       [178260.00799668],\n",
       "       [101253.69539263],\n",
       "       [ 70049.99065056],\n",
       "       [ 89832.08352043],\n",
       "       [ 60771.57265506],\n",
       "       [ 68451.56796796],\n",
       "       [ 72784.4974839 ],\n",
       "       [176527.4519261 ],\n",
       "       [ 89747.21001498],\n",
       "       [133502.49725894],\n",
       "       [ 92721.35961004],\n",
       "       [ 88691.58463269],\n",
       "       [172441.54308133],\n",
       "       [ 60275.09054795],\n",
       "       [169216.93353633],\n",
       "       [166042.69334505],\n",
       "       [165619.4077052 ],\n",
       "       [102237.9503021 ],\n",
       "       [181359.19337226],\n",
       "       [ 73713.11311927],\n",
       "       [ 90709.60862196],\n",
       "       [135322.71202087],\n",
       "       [ 64454.22152475],\n",
       "       [ 71320.81839669],\n",
       "       [ 60126.70069298],\n",
       "       [184520.17549719],\n",
       "       [176502.26729816],\n",
       "       [158627.02617161],\n",
       "       [141043.51692721],\n",
       "       [154321.86090418],\n",
       "       [ 58068.26926282],\n",
       "       [ 90662.92827188],\n",
       "       [152592.74411238],\n",
       "       [168597.85641348],\n",
       "       [ 72031.89719988],\n",
       "       [116159.44664681],\n",
       "       [ 80111.10300169],\n",
       "       [149530.03211575],\n",
       "       [116442.08084308],\n",
       "       [129711.46587662],\n",
       "       [174746.49582686],\n",
       "       [312544.61058801],\n",
       "       [145822.94740531],\n",
       "       [150349.44946187],\n",
       "       [ 86142.80552848],\n",
       "       [ 69970.27612187],\n",
       "       [ 70100.11037723],\n",
       "       [ 68431.43134406],\n",
       "       [120309.59303094],\n",
       "       [ 89258.57736458],\n",
       "       [167020.92954113],\n",
       "       [125025.3961965 ],\n",
       "       [ 66745.6666747 ],\n",
       "       [136207.67292214],\n",
       "       [118041.00278947],\n",
       "       [165488.96333057],\n",
       "       [168855.80524559],\n",
       "       [146563.26043985],\n",
       "       [141080.48955055],\n",
       "       [108706.19652539],\n",
       "       [ 81996.09842312],\n",
       "       [156715.87531507],\n",
       "       [136111.17545705],\n",
       "       [ 60095.38619491],\n",
       "       [142936.86106526],\n",
       "       [176607.41609153],\n",
       "       [ 86868.25185951],\n",
       "       [136161.90539112],\n",
       "       [169863.52519254],\n",
       "       [ 94673.78230096],\n",
       "       [136811.07648195],\n",
       "       [125958.67153515],\n",
       "       [ 26824.17555946],\n",
       "       [ 71059.67992255],\n",
       "       [166577.86776962],\n",
       "       [139103.99160504],\n",
       "       [126900.18463711],\n",
       "       [137925.16564678],\n",
       "       [ 82185.05189108],\n",
       "       [130372.67468771],\n",
       "       [170207.45688406],\n",
       "       [108964.39497484],\n",
       "       [123835.1428329 ],\n",
       "       [117132.523778  ],\n",
       "       [ 60011.12291044],\n",
       "       [126197.70407976],\n",
       "       [179351.13138782],\n",
       "       [ 53832.13990787],\n",
       "       [122750.44392207],\n",
       "       [173420.63902373],\n",
       "       [ 69532.37341526],\n",
       "       [152339.34413775],\n",
       "       [134222.49102227],\n",
       "       [ 59794.44593309],\n",
       "       [ 85761.04135005],\n",
       "       [ 84415.15889576],\n",
       "       [ 98118.25847601],\n",
       "       [ 75806.54785355],\n",
       "       [127922.16115858],\n",
       "       [110026.0345173 ],\n",
       "       [ 59367.97063568],\n",
       "       [101415.34330426],\n",
       "       [147466.94106461],\n",
       "       [158826.14605849],\n",
       "       [161162.66283324],\n",
       "       [185261.95858328],\n",
       "       [ 55277.26340226],\n",
       "       [153551.0056032 ],\n",
       "       [ 66801.55558555],\n",
       "       [163853.56801492],\n",
       "       [ 64128.59588421],\n",
       "       [ 59010.89183694],\n",
       "       [140230.11839231],\n",
       "       [ 61709.64637848],\n",
       "       [ 60983.58992137],\n",
       "       [129454.37699618],\n",
       "       [168099.40509273],\n",
       "       [120935.7984362 ],\n",
       "       [ 65531.83732032],\n",
       "       [ 26881.13856777],\n",
       "       [147003.24342483],\n",
       "       [177747.05047437],\n",
       "       [175771.66199035],\n",
       "       [138614.99836458],\n",
       "       [ 76492.33107547],\n",
       "       [180787.65654146],\n",
       "       [105183.11529285],\n",
       "       [102020.16385259],\n",
       "       [173142.30395038],\n",
       "       [128856.29634138],\n",
       "       [144305.70931265],\n",
       "       [121040.08737572],\n",
       "       [123368.86574879],\n",
       "       [105721.97872106],\n",
       "       [ 73772.19168185],\n",
       "       [110719.55623874],\n",
       "       [ 80466.82269832],\n",
       "       [152150.18169278],\n",
       "       [126296.83415003],\n",
       "       [ 65603.20313238],\n",
       "       [ 77225.5158179 ],\n",
       "       [ 92528.14766918],\n",
       "       [156521.55390302],\n",
       "       [144481.36406423],\n",
       "       [164757.85875897],\n",
       "       [ 52785.38250323],\n",
       "       [ 99485.02653316],\n",
       "       [159845.90363757],\n",
       "       [142030.24041581],\n",
       "       [ 89860.70752498],\n",
       "       [ 98778.85707   ],\n",
       "       [170402.02793286],\n",
       "       [181979.3799566 ],\n",
       "       [140522.70994236],\n",
       "       [159234.56491641],\n",
       "       [142294.56854168],\n",
       "       [344096.09798756],\n",
       "       [139396.58324321],\n",
       "       [143903.8084222 ],\n",
       "       [118231.40780841]])"
      ]
     },
     "execution_count": 242,
     "metadata": {},
     "output_type": "execute_result"
    }
   ],
   "source": [
    "y_pred=Linear.predict(X_test)\n",
    "y_pred"
   ]
  },
  {
   "cell_type": "code",
   "execution_count": 243,
   "id": "b20ae0c5",
   "metadata": {},
   "outputs": [
    {
     "data": {
      "text/plain": [
       "array([[ 5.28077058e-01,  9.78263293e-01,  9.70601727e-02,\n",
       "        -2.78834327e+02]])"
      ]
     },
     "execution_count": 243,
     "metadata": {},
     "output_type": "execute_result"
    }
   ],
   "source": [
    "Linear.coef_"
   ]
  },
  {
   "cell_type": "code",
   "execution_count": 244,
   "id": "1775ce97",
   "metadata": {},
   "outputs": [
    {
     "data": {
      "text/plain": [
       "array([-65740.27690882])"
      ]
     },
     "execution_count": 244,
     "metadata": {},
     "output_type": "execute_result"
    }
   ],
   "source": [
    "Linear.intercept_"
   ]
  },
  {
   "cell_type": "code",
   "execution_count": 245,
   "id": "94d4f964",
   "metadata": {},
   "outputs": [
    {
     "data": {
      "text/plain": [
       "0.931091029778443"
      ]
     },
     "execution_count": 245,
     "metadata": {},
     "output_type": "execute_result"
    }
   ],
   "source": [
    "from sklearn.metrics import r2_score\n",
    "r2_score(y_test,y_pred )"
   ]
  },
  {
   "cell_type": "code",
   "execution_count": 254,
   "id": "b7240e9d",
   "metadata": {},
   "outputs": [
    {
     "data": {
      "text/plain": [
       "array([[633426.38446479]])"
      ]
     },
     "execution_count": 254,
     "metadata": {},
     "output_type": "execute_result"
    }
   ],
   "source": [
    "y_preds=[[694464,87526,2545756,1]]\n",
    "y_pred=Linear.predict(y_preds)\n",
    "y_pred"
   ]
  },
  {
   "cell_type": "code",
   "execution_count": null,
   "id": "f9f8eec5",
   "metadata": {},
   "outputs": [],
   "source": []
  }
 ],
 "metadata": {
  "kernelspec": {
   "display_name": "Python 3",
   "language": "python",
   "name": "python3"
  },
  "language_info": {
   "codemirror_mode": {
    "name": "ipython",
    "version": 3
   },
   "file_extension": ".py",
   "mimetype": "text/x-python",
   "name": "python",
   "nbconvert_exporter": "python",
   "pygments_lexer": "ipython3",
   "version": "3.8.8"
  }
 },
 "nbformat": 4,
 "nbformat_minor": 5
}
