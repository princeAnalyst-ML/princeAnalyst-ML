{
 "cells": [
  {
   "cell_type": "code",
   "execution_count": 5,
   "id": "bcce74fc",
   "metadata": {},
   "outputs": [],
   "source": [
    "from keras.model import Sequential\n",
    "from keras.layer import Cov2D\n",
    "from keras.layer import MaxPooling2D\n",
    "from keras.layer import Flatten\n",
    "from keras.layer import Dense"
   ]
  },
  {
   "cell_type": "code",
   "execution_count": 8,
   "id": "d3dc4751",
   "metadata": {},
   "outputs": [],
   "source": [
    "# Initialze the CNN Model\n",
    "classifier=Sequential()\n",
    "\n",
    "# 1. Convolution\n",
    "classifier.add(Cov2D(32,(3,3),input_shape(64,64,3),activation='relu'))\n",
    "\n",
    "# 2. Add convolution layer.\n",
    "classifier.add(Conv2D(32,(3,3),activation='relu')\n",
    "               \n",
    "classifier.add(MaxPooling2D(pooling_size(2,2)))\n",
    "               \n",
    "# 3. Flattening the pixels\n",
    "classifier.add(Flatten())\n",
    "               \n",
    "# 4. Make Full Connection\n",
    "               \n",
    "classifier.add(Dense(units=128,activation='relu'))\n",
    "classifier.add(Dense(units=1,activation='sigmoid'))"
   ]
  },
  {
   "cell_type": "code",
   "execution_count": null,
   "id": "d5536c28",
   "metadata": {},
   "outputs": [],
   "source": [
    "# Compile the CNN\n",
    "classifier.compile(optimizer='adam',loss='binary_crossentropy',metrics=['accuracy'])"
   ]
  },
  {
   "cell_type": "code",
   "execution_count": null,
   "id": "fed5e63e",
   "metadata": {},
   "outputs": [],
   "source": [
    "# Fitting the CNN to the images.\n",
    " \n",
    "from keras.preprocessing.image import ImageDataGenerator\n",
    "train_datagen=ImageDataGenerator(rescale=1./255,shear_range=0.2,zoom_range=0.2,horizontal_flip=True)"
   ]
  },
  {
   "cell_type": "code",
   "execution_count": null,
   "id": "fe7402fd",
   "metadata": {},
   "outputs": [],
   "source": [
    "training_set=train_datagen.flow_from_directory('dataset/training_set',\n",
    "                                               target_size=(64,64),\n",
    "                                               batch_size=32,class_mode='binary') "
   ]
  },
  {
   "cell_type": "code",
   "execution_count": null,
   "id": "3d0f5130",
   "metadata": {},
   "outputs": [],
   "source": [
    "test_datagen=ImageDataGenerator(rescale=1./255)\n",
    "test_set=train_datagen.flow_from_directory('dataset/test_set',\n",
    "                                           target_size=(64,64),batch_size=32,class_mode='binary')"
   ]
  },
  {
   "cell_type": "code",
   "execution_count": null,
   "id": "1b6e60e5",
   "metadata": {},
   "outputs": [],
   "source": [
    "#training model\n",
    "classifier.fit_generator(training_set,\n",
    "                         steps_per_epoch=8000,\n",
    "                         epochs=25,\n",
    "                         validation_data=test_set,\n",
    "                         validation_steps=2000)"
   ]
  },
  {
   "cell_type": "code",
   "execution_count": null,
   "id": "eacff961",
   "metadata": {},
   "outputs": [],
   "source": [
    "#New predictions\n",
    "import numpy as np\n",
    "from keras.preprocessing import image\n",
    "test_image=image.load_img('dataset/single_prediction/cat_or_dog_2.jpg',\n",
    "                      target_size=(64,64))\n",
    "test_image=image.img_to_array(test_image)\n",
    "test_image=np.expand_dims(test_image,axis=0)\n",
    "result=classifier.predict(test_image)\n",
    "training_set.class_indices\n",
    "if result[0][0] ==1:\n",
    "    prediction='dog'\n",
    "else:\n",
    "    prediction='cat'\n",
    "print(prediction)"
   ]
  },
  {
   "cell_type": "code",
   "execution_count": null,
   "id": "dd8251b3",
   "metadata": {},
   "outputs": [],
   "source": []
  },
  {
   "cell_type": "code",
   "execution_count": null,
   "id": "508104f4",
   "metadata": {},
   "outputs": [],
   "source": []
  }
 ],
 "metadata": {
  "kernelspec": {
   "display_name": "Python 3",
   "language": "python",
   "name": "python3"
  },
  "language_info": {
   "codemirror_mode": {
    "name": "ipython",
    "version": 3
   },
   "file_extension": ".py",
   "mimetype": "text/x-python",
   "name": "python",
   "nbconvert_exporter": "python",
   "pygments_lexer": "ipython3",
   "version": "3.8.8"
  }
 },
 "nbformat": 4,
 "nbformat_minor": 5
}
